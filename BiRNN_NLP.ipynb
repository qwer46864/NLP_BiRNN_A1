{
  "nbformat": 4,
  "nbformat_minor": 0,
  "metadata": {
    "colab": {
      "name": "sqin8731_COMP5046_Ass1.ipynb",
      "provenance": [],
      "collapsed_sections": [],
      "toc_visible": true
    },
    "kernelspec": {
      "name": "python3",
      "display_name": "Python 3"
    },
    "accelerator": "GPU"
  },
  "cells": [
    {
      "cell_type": "markdown",
      "metadata": {
        "id": "MGHoy6KpQDfZ"
      },
      "source": [
        "# COMP5046 Assignment 1\n",
        "*Make sure you change the file name with your unikey.*"
      ]
    },
    {
      "cell_type": "markdown",
      "metadata": {
        "id": "qTf21j_oQIiD"
      },
      "source": [
        "# Readme\n",
        "*If there is something to be noted for the user, please mention here.* \n",
        "\n",
        "*If you are planning to implement a program with Object Oriented Programming style, please check the bottom of the this ipynb file*"
      ]
    },
    {
      "cell_type": "markdown",
      "metadata": {
        "id": "iXbQohXLKSgO"
      },
      "source": [
        "***Visualising the comparison of different results is a good way to justify your decision.***"
      ]
    },
    {
      "cell_type": "markdown",
      "metadata": {
        "id": "34DVNKgqQY21"
      },
      "source": [
        "# 1 - Data Preprocessing"
      ]
    },
    {
      "cell_type": "markdown",
      "metadata": {
        "id": "7cWUxAQrGlq6"
      },
      "source": [
        "## 1.1. Download Dataset"
      ]
    },
    {
      "cell_type": "markdown",
      "metadata": {
        "id": "Lr8o7UZxWf3Y"
      },
      "source": [
        "If you want to know how data has been saved in pickle file: see this [ipynb file](https://drive.google.com/file/d/1ZQUVBzgH7N2EbiyE3WTPx7JNe2eRTs36/view?usp=sharing)"
      ]
    },
    {
      "cell_type": "code",
      "metadata": {
        "id": "U7C4snIcNl22",
        "colab": {
          "base_uri": "https://localhost:8080/"
        },
        "outputId": "7991d54f-9a83-45be-e31f-6ce335c37101"
      },
      "source": [
        "# Code to download file into Colaboratory:\n",
        "!pip install -U -q PyDrive\n",
        "from pydrive.auth import GoogleAuth\n",
        "from pydrive.drive import GoogleDrive\n",
        "from google.colab import auth\n",
        "from oauth2client.client import GoogleCredentials\n",
        "# Authenticate and create the PyDrive client.\n",
        "auth.authenticate_user()\n",
        "gauth = GoogleAuth()\n",
        "gauth.credentials = GoogleCredentials.get_application_default()\n",
        "drive = GoogleDrive(gauth)\n",
        "\n",
        "id = '1lTD6bgRkmwguGAr30v-r0KBPdtnVneLb'\n",
        "downloaded = drive.CreateFile({'id':id}) \n",
        "downloaded.GetContentFile('testing_data.pkl')  \n",
        "\n",
        "id = '1pCUdlZMoj99UZHtqFeza86fvVQfFmDFX'\n",
        "downloaded = drive.CreateFile({'id':id}) \n",
        "downloaded.GetContentFile('training_data.pkl')  \n",
        "\n",
        "import pickle\n",
        "training_data = pickle.load(open(\"training_data.pkl\",\"rb\"))\n",
        "testing_data = pickle.load(open(\"testing_data.pkl\",\"rb\"))\n",
        "\n",
        "print(\"------------------------------------\")\n",
        "print(\"Size of training dataset: {0}\".format(len(training_data)))\n",
        "print(\"Size of testing dataset: {0}\".format(len(testing_data)))\n",
        "print(\"------------------------------------\")\n",
        "\n",
        "print(\"------------------------------------\")\n",
        "print(\"Sample Data\")\n",
        "print(\"LABEL: {0} / SENTENCE: {1}\".format(training_data[0][0], training_data[0][1]))\n",
        "print(\"------------------------------------\")\n"
      ],
      "execution_count": 931,
      "outputs": [
        {
          "output_type": "stream",
          "text": [
            "------------------------------------\n",
            "Size of training dataset: 8000\n",
            "Size of testing dataset: 2000\n",
            "------------------------------------\n",
            "------------------------------------\n",
            "Sample Data\n",
            "LABEL: neg / SENTENCE: hopeless for tmr :(\n",
            "------------------------------------\n"
          ],
          "name": "stdout"
        }
      ]
    },
    {
      "cell_type": "markdown",
      "metadata": {
        "id": "l9gBSgBCQh24"
      },
      "source": [
        "## 1.2. Preprocess data"
      ]
    },
    {
      "cell_type": "markdown",
      "metadata": {
        "id": "8RdKI8E2KRwe"
      },
      "source": [
        "The first preprocessing skill is shuffle the training data. The labels for first half training records are all negative and second half are all positive. This can result in model predicting all negative or all positive, causing the bias of model. Therefore, shuffle of training data is required.\n",
        "After that, split of training data and testing data is performed to split data and labels."
      ]
    },
    {
      "cell_type": "code",
      "metadata": {
        "id": "emyl1lWxGr12"
      },
      "source": [
        "import numpy as np\n",
        "np.random.shuffle(training_data)\n",
        "training_data = np.array(training_data)\n",
        "train_label = training_data[:,0].tolist()\n",
        "train_data = training_data[:,1].tolist()"
      ],
      "execution_count": 932,
      "outputs": []
    },
    {
      "cell_type": "code",
      "metadata": {
        "id": "1QPljihDIyIZ"
      },
      "source": [
        "testing_data = np.array(testing_data)\n",
        "test_label = testing_data[:,0].tolist()\n",
        "test_data = testing_data[:,1].tolist()"
      ],
      "execution_count": 933,
      "outputs": []
    },
    {
      "cell_type": "markdown",
      "metadata": {
        "id": "s1Paxn9tpKee"
      },
      "source": [
        "Case-folding is performed by reducing all letters to lower case. This is because even 'cat', 'CAT', 'Cat' have same meaning but for machine they are different. This is part of normalization."
      ]
    },
    {
      "cell_type": "code",
      "metadata": {
        "id": "V00HrK2Eq0ar"
      },
      "source": [
        "train_data_low = [s.lower() for s in train_data]\n",
        "test_data_low = [s.lower() for s in test_data]"
      ],
      "execution_count": 934,
      "outputs": []
    },
    {
      "cell_type": "markdown",
      "metadata": {
        "id": "11hyHj_Zq4AL"
      },
      "source": [
        "Punctuation is removed using regular expression at first, since for most text mining, punctuation does not have meaning. However after looking the dataset, I found there are lots of emoticons such as ':)', ':(', ':D' in the dataset and they do add values to the model. Hence I retain the punctuation.\n",
        "\n",
        "\n"
      ]
    },
    {
      "cell_type": "code",
      "metadata": {
        "id": "YSRqKFSfv0Iu"
      },
      "source": [
        "import re\n",
        "\n",
        "# def remove_punctuation_re(x):\n",
        "#     x = re.sub(r'[^\\w\\s]','',x)\n",
        "#     return x\n",
        "    \n",
        "# train_data_low = [remove_punctuation_re(s) for s in train_data_low]\n",
        "# test_data_low = [remove_punctuation_re(s) for s in test_data_low]"
      ],
      "execution_count": 935,
      "outputs": []
    },
    {
      "cell_type": "markdown",
      "metadata": {
        "id": "yUarj-zbAAAp"
      },
      "source": [
        "Word tokenisation and sent tokenisation is applied to tokenize text into words."
      ]
    },
    {
      "cell_type": "code",
      "metadata": {
        "id": "QuZcSdHyrpYP",
        "colab": {
          "base_uri": "https://localhost:8080/"
        },
        "outputId": "04588a0a-155d-4a8e-f295-6c2dfd6365f5"
      },
      "source": [
        "import nltk\n",
        "nltk.download('punkt')\n",
        "\n",
        "from nltk.tokenize import word_tokenize, sent_tokenize\n",
        "\n",
        "train_data = [word_tokenize(i) for i in train_data_low]\n",
        "test_data = [word_tokenize(i) for i in test_data_low]"
      ],
      "execution_count": 936,
      "outputs": [
        {
          "output_type": "stream",
          "text": [
            "[nltk_data] Downloading package punkt to /root/nltk_data...\n",
            "[nltk_data]   Package punkt is already up-to-date!\n"
          ],
          "name": "stdout"
        }
      ]
    },
    {
      "cell_type": "markdown",
      "metadata": {
        "id": "RhUsBi8oyp7E"
      },
      "source": [
        "Stop words are removed because stope words don't have much meaning in a text, for example, 'a' 'the' 'that' are stop words, they don't add value to model but they appear a lot of times. Therefore stop words should be removed for both training and testing data"
      ]
    },
    {
      "cell_type": "code",
      "metadata": {
        "colab": {
          "base_uri": "https://localhost:8080/"
        },
        "id": "UCtVcLP4rztA",
        "outputId": "b7b0e5fb-cd9a-494d-ac41-16d57a0bcce5"
      },
      "source": [
        "nltk.download('stopwords')\n",
        "from nltk.corpus import stopwords as sw\n",
        "stop_words = sw.words()\n",
        "\n",
        "train_data_ns=[]\n",
        "for tokens in train_data:\n",
        "    filtered_sentence = [w for w in tokens if not w in stop_words]\n",
        "    train_data_ns.append(filtered_sentence)\n",
        "  \n",
        "test_data_ns=[]\n",
        "for tokens in test_data:\n",
        "    filtered_sentence = [w for w in tokens if not w in stop_words]\n",
        "    test_data_ns.append(filtered_sentence)"
      ],
      "execution_count": 937,
      "outputs": [
        {
          "output_type": "stream",
          "text": [
            "[nltk_data] Downloading package stopwords to /root/nltk_data...\n",
            "[nltk_data]   Package stopwords is already up-to-date!\n"
          ],
          "name": "stdout"
        }
      ]
    },
    {
      "cell_type": "markdown",
      "metadata": {
        "id": "KI2JyyJ5zGwv"
      },
      "source": [
        "Lemmatization is applied to both data, it reduced inflections or variant forms to base form, to reduce complexity of model but retain the meaning of the words."
      ]
    },
    {
      "cell_type": "code",
      "metadata": {
        "colab": {
          "base_uri": "https://localhost:8080/"
        },
        "id": "Oluxf6EJ_kXv",
        "outputId": "85647757-1efd-43ac-bd9a-53a18350e2b7"
      },
      "source": [
        "nltk.download('wordnet')\n",
        "\n",
        "from nltk.stem import WordNetLemmatizer\n",
        "\n",
        "lemmatizer = WordNetLemmatizer()\n",
        "\n",
        "train_data_le = []\n",
        "for tokens in train_data_ns:\n",
        "    lemma_sentence = [lemmatizer.lemmatize(w) for w in tokens ]\n",
        "    train_data_le.append(lemma_sentence)\n",
        "\n",
        "test_data_le = []\n",
        "for tokens in test_data_ns:\n",
        "    lemma_sentence = [lemmatizer.lemmatize(w) for w in tokens ]\n",
        "    test_data_le.append(lemma_sentence)"
      ],
      "execution_count": 938,
      "outputs": [
        {
          "output_type": "stream",
          "text": [
            "[nltk_data] Downloading package wordnet to /root/nltk_data...\n",
            "[nltk_data]   Package wordnet is already up-to-date!\n"
          ],
          "name": "stdout"
        }
      ]
    },
    {
      "cell_type": "markdown",
      "metadata": {
        "id": "fr9N6c5Q0VCl"
      },
      "source": [
        "I encode the labels of both train and test data to a standard form (neg:0, pos:1).\n",
        "\n",
        "Note: Part of code refers to Lab 05."
      ]
    },
    {
      "cell_type": "code",
      "metadata": {
        "colab": {
          "base_uri": "https://localhost:8080/"
        },
        "id": "7ehpaZJp_8J1",
        "outputId": "331bcba5-a7a0-4861-fd5d-59775557a850"
      },
      "source": [
        "from sklearn.preprocessing import LabelEncoder\n",
        "\n",
        "unique_labels = np.unique(train_label)\n",
        "\n",
        "lEnc = LabelEncoder()\n",
        "label_train_encoded = lEnc.fit_transform(train_label)\n",
        "label_test_encoded = lEnc.transform(test_label)\n",
        "\n",
        "n_class = len(unique_labels)\n",
        "print(unique_labels)\n",
        "print(lEnc.transform(unique_labels))\n",
        "print(label_train_encoded)"
      ],
      "execution_count": 939,
      "outputs": [
        {
          "output_type": "stream",
          "text": [
            "['neg' 'pos']\n",
            "[0 1]\n",
            "[0 0 0 ... 1 1 0]\n"
          ],
          "name": "stdout"
        }
      ]
    },
    {
      "cell_type": "markdown",
      "metadata": {
        "id": "LIu_lkJwQ55g"
      },
      "source": [
        "# 2 - Model Implementation"
      ]
    },
    {
      "cell_type": "markdown",
      "metadata": {
        "id": "daDvAftceIvr"
      },
      "source": [
        "## 2.1. Word Embeddings"
      ]
    },
    {
      "cell_type": "markdown",
      "metadata": {
        "id": "lbzm-NWBTmM-"
      },
      "source": [
        "A word2vec CBOW model is implemented. CBOW predicts centre word from context words. I've added ted dataset as input of word embedding model. This is because increasing input data size can increase accuracy of model in general."
      ]
    },
    {
      "cell_type": "markdown",
      "metadata": {
        "id": "GXgFpxIgl-_G"
      },
      "source": [
        "### 2.1.1. Data Preprocessing for Word Embeddings"
      ]
    },
    {
      "cell_type": "markdown",
      "metadata": {
        "id": "qJrVHGYSmYMg"
      },
      "source": [
        "For data preprocessing for word embeddings, first get ted data from its id and get content from xml file, then use regular expression to remove sound effect labels since in ted dataset, there's a lot sound effect words and they are not useful for training data. Then apply sentence tokenization, removing punctuation, changing to lower case, word tokenization and lemmatization to ted data correspondingly. \n",
        "Unlike twitter dataset, the punctuation in ted dataset dont add value to the text so I removed punctuation for ted dataset here. \n",
        "\n",
        "Note: Part of this data preprocessing code refers to lab 2"
      ]
    },
    {
      "cell_type": "code",
      "metadata": {
        "id": "gaOEeh5I1T4e"
      },
      "source": [
        "id = '1B47OiEiG2Lo1jUY6hy_zMmHBxfKQuJ8-'\n",
        "downloaded = drive.CreateFile({'id':id}) \n",
        "downloaded.GetContentFile('ted_en-20160408.xml')  "
      ],
      "execution_count": 940,
      "outputs": []
    },
    {
      "cell_type": "code",
      "metadata": {
        "id": "KOdlH1kQ1_kc"
      },
      "source": [
        "from lxml import etree \n",
        "from gensim.models import Word2Vec\n",
        "targetXML=open('ted_en-20160408.xml', 'r', encoding='UTF8')\n",
        "\n",
        "target_text = etree.parse(targetXML)\n",
        "parse_text = '\\n'.join(target_text.xpath('//content/text()'))\n",
        "\n",
        "content_text = re.sub(r'\\([^)]*\\)', '', parse_text)\n",
        "\n",
        "sent_text=sent_tokenize(content_text)\n",
        "\n",
        "normalized_text = []\n",
        "for string in sent_text:\n",
        "     tokens = re.sub(r\"[^a-z0-9]+\", \" \", string.lower())\n",
        "     normalized_text.append(tokens)\n",
        "\n",
        "sentences=[]\n",
        "sentences=[word_tokenize(sentence) for sentence in normalized_text]\n",
        "\n",
        "sentences_ted = []\n",
        "for tokens in sentences:\n",
        "    lemma_sentence = [lemmatizer.lemmatize(w) for w in tokens ]\n",
        "    sentences_ted.append(lemma_sentence)"
      ],
      "execution_count": 941,
      "outputs": []
    },
    {
      "cell_type": "markdown",
      "metadata": {
        "id": "qhAgWf_AmbZ8"
      },
      "source": [
        "### 2.1.2. Build Word Embeddings Model"
      ]
    },
    {
      "cell_type": "markdown",
      "metadata": {
        "id": "AJ8rU7JbiBVS"
      },
      "source": [
        "The hyperparameters of word2vec cbow model are:\n",
        "\n",
        "\n",
        "*   sentence: the input word includes preprocessed train dataset, test dataset and ted dataset. Including train and test dataset can make sure the model will not have out of vocabulary (oov) problem when applying word embedding model to train/test dataset.\n",
        "\n",
        "*   Size: is the dimensionality of the word vectors. In the evaluation section, there will be plots on how different size of word vectors can affect the accuracy of word embedding model.\n",
        "\n",
        "\n",
        "*   Window: is the window size which indicates the maximum distance between centre word and context word within a sentence. In the evaluation section, there will be plots on how different window size can affect the accuracy of word embedding model.\n",
        "\n",
        "*   min_count: is the number where the model will ignore the word if the word frequence is lowen than this number. I set it to one to avoid out of vocabulary problem because if I set it larger than 1, for example 2, the word appears only once in the dataset will be ignored by the model, and when applying model to the dataset, we cannot get the word vector of the word.\n",
        "\n",
        "*   Workers: is the worker threads to train the model, larger worker means faster training.\n",
        "\n",
        "*   sg: is the training algorithm where 0 stands for cbow and 1 stands for skip-gram. I choose cbow so I set it as 0."
      ]
    },
    {
      "cell_type": "code",
      "metadata": {
        "id": "nCkdDnNdjX62"
      },
      "source": [
        "sentence_wv = sentences_ted + train_data_le + test_data_le\n",
        "size_wv = 200\n",
        "window_wv = 5\n",
        "min_count_wv = 1\n",
        "workers_wv = 2\n",
        "sg_wv = 0"
      ],
      "execution_count": 942,
      "outputs": []
    },
    {
      "cell_type": "markdown",
      "metadata": {
        "id": "LNys5HOdISK-"
      },
      "source": [
        "### 2.1.3. Train Word Embeddings Model"
      ]
    },
    {
      "cell_type": "code",
      "metadata": {
        "id": "k80gs6hJ3OJD"
      },
      "source": [
        "wv_cbow_model = Word2Vec(sentences=sentence_wv, size=size_wv, window=window_wv, min_count=min_count_wv, workers=workers_wv, sg=sg_wv)"
      ],
      "execution_count": 943,
      "outputs": []
    },
    {
      "cell_type": "markdown",
      "metadata": {
        "id": "T0ap96aeGlIk"
      },
      "source": [
        "## 2.2. Lexicon Embeddings"
      ]
    },
    {
      "cell_type": "markdown",
      "metadata": {
        "id": "d16v3oKaGlI0"
      },
      "source": [
        "### 2.2.1. Lexicon-based Embedding"
      ]
    },
    {
      "cell_type": "code",
      "metadata": {
        "colab": {
          "base_uri": "https://localhost:8080/"
        },
        "id": "hqXer0iTBdVf",
        "outputId": "ab2b6e47-0c34-4993-9e8f-b53b8c4a5ed2"
      },
      "source": [
        "from nltk.corpus import opinion_lexicon\n",
        "import nltk\n",
        "nltk.download('opinion_lexicon')"
      ],
      "execution_count": 944,
      "outputs": [
        {
          "output_type": "stream",
          "text": [
            "[nltk_data] Downloading package opinion_lexicon to /root/nltk_data...\n",
            "[nltk_data]   Package opinion_lexicon is already up-to-date!\n"
          ],
          "name": "stdout"
        },
        {
          "output_type": "execute_result",
          "data": {
            "text/plain": [
              "True"
            ]
          },
          "metadata": {
            "tags": []
          },
          "execution_count": 944
        }
      ]
    },
    {
      "cell_type": "code",
      "metadata": {
        "id": "i2CUCL1cGlI2"
      },
      "source": [
        "neg_words=[]\n",
        "for word in opinion_lexicon.negative():\n",
        "  neg_words.append(word)\n",
        "\n",
        "pos_words=[]\n",
        "for word in opinion_lexicon.positive():\n",
        "  pos_words.append(word)"
      ],
      "execution_count": 945,
      "outputs": []
    },
    {
      "cell_type": "code",
      "metadata": {
        "colab": {
          "base_uri": "https://localhost:8080/"
        },
        "id": "LAJh2w_TYQyU",
        "outputId": "062cce50-ae74-4efd-9b2c-6806731f0b2c"
      },
      "source": [
        "print(['pad'in pos_words])\n",
        "print(['pad'in neg_words])"
      ],
      "execution_count": 946,
      "outputs": [
        {
          "output_type": "stream",
          "text": [
            "[False]\n",
            "[False]\n"
          ],
          "name": "stdout"
        }
      ]
    },
    {
      "cell_type": "code",
      "metadata": {
        "id": "rgI-1_Xzu_7z"
      },
      "source": [
        "train_lex = []\n",
        "for sent in train_data_le:\n",
        "  sent_lex = []\n",
        "  for token in sent:\n",
        "    if token in neg_words:\n",
        "      sent_lex.append(1)\n",
        "    elif token in pos_words:\n",
        "      sent_lex.append(2)\n",
        "    else:\n",
        "      sent_lex.append(0)\n",
        "  train_lex.append(sent_lex)\n",
        "\n",
        "test_lex = []\n",
        "for sent in test_data_le:\n",
        "  sent_lex = []\n",
        "  for token in sent:\n",
        "    if token in neg_words:\n",
        "      sent_lex.append(1)\n",
        "    elif token in pos_words:\n",
        "      sent_lex.append(2)\n",
        "    else:\n",
        "      sent_lex.append(0)\n",
        "  test_lex.append(sent_lex)"
      ],
      "execution_count": 947,
      "outputs": []
    },
    {
      "cell_type": "markdown",
      "metadata": {
        "id": "tlCeWT8eeLnd"
      },
      "source": [
        "## 2.3. Bi-directional RNN Sequence model"
      ]
    },
    {
      "cell_type": "markdown",
      "metadata": {
        "id": "fwA-NN3EJ4Ig"
      },
      "source": [
        "### 2.3.1. Apply/Import Word Embedding and Lexicon Embedding"
      ]
    },
    {
      "cell_type": "code",
      "metadata": {
        "id": "kYwrmeyRz1vg"
      },
      "source": [
        "seq_length = 30"
      ],
      "execution_count": 948,
      "outputs": []
    },
    {
      "cell_type": "code",
      "metadata": {
        "id": "g7PKX1gIePA2",
        "colab": {
          "base_uri": "https://localhost:8080/"
        },
        "outputId": "df02f924-5158-4ee1-8a1e-f663ef197af3"
      },
      "source": [
        "word_emb = []\n",
        "for i in range(len(train_data_le)):\n",
        "  sent = train_data_le[i]\n",
        "  lex_sent = train_lex[i]\n",
        "  sent_emb = []\n",
        "  for j in range(len(sent)):\n",
        "    sent_token = list(wv_cbow_model[sent[j]])\n",
        "    lex_token = lex_sent[j]\n",
        "    token = sent_token + [lex_token]\n",
        "    sent_emb.append(token)\n",
        "  word_emb.append(sent_emb)\n",
        "\n",
        "average_length = np.mean([len(x)for x in word_emb])\n",
        "max_length = np.max([len(x)for x in word_emb])\n",
        "print('The average length is ' + str(average_length))\n",
        "print('The maximum length is ' + str(max_length))\n",
        "\n",
        "word_emb_fix = []\n",
        "for sent in word_emb:\n",
        "  if len(sent) < seq_length:\n",
        "    for i in range(seq_length - len(sent)):\n",
        "      sent_token = list(wv_cbow_model['pad'])\n",
        "      lex_token = 2\n",
        "      token = sent_token + [lex_token]\n",
        "      sent.append(token)\n",
        "  if len(sent)>= seq_length:\n",
        "    sent = sent[0:seq_length]\n",
        "  word_emb_fix.append(sent)\n"
      ],
      "execution_count": 949,
      "outputs": [
        {
          "output_type": "stream",
          "text": [
            "/usr/local/lib/python3.7/dist-packages/ipykernel_launcher.py:7: DeprecationWarning: Call to deprecated `__getitem__` (Method will be removed in 4.0.0, use self.wv.__getitem__() instead).\n",
            "  import sys\n"
          ],
          "name": "stderr"
        },
        {
          "output_type": "stream",
          "text": [
            "The average length is 11.569875\n",
            "The maximum length is 62\n"
          ],
          "name": "stdout"
        },
        {
          "output_type": "stream",
          "text": [
            "/usr/local/lib/python3.7/dist-packages/ipykernel_launcher.py:22: DeprecationWarning: Call to deprecated `__getitem__` (Method will be removed in 4.0.0, use self.wv.__getitem__() instead).\n"
          ],
          "name": "stderr"
        }
      ]
    },
    {
      "cell_type": "code",
      "metadata": {
        "colab": {
          "base_uri": "https://localhost:8080/"
        },
        "id": "hbwFxBmYUa6e",
        "outputId": "afd8dedd-d3d4-443f-f3b0-c49acfa0c65f"
      },
      "source": [
        "test_emb = []\n",
        "for i in range(len(test_data_le)):\n",
        "  sent = test_data_le[i]\n",
        "  lex_sent = test_lex[i]\n",
        "  sent_emb = []\n",
        "  for j in range(len(sent)):\n",
        "    sent_token = list(wv_cbow_model[sent[j]])\n",
        "    lex_token = lex_sent[j]\n",
        "    token = sent_token + [lex_token]\n",
        "    sent_emb.append(token)\n",
        "  test_emb.append(sent_emb)\n",
        "\n",
        "test_emb_fix = []\n",
        "for sent in test_emb:\n",
        "  if len(sent) < seq_length:\n",
        "    for i in range(seq_length - len(sent)):\n",
        "      sent_token = list(wv_cbow_model['pad'])\n",
        "      lex_token = 2\n",
        "      token = sent_token + [lex_token]\n",
        "      sent.append(token)\n",
        "  if len(sent)>= seq_length:\n",
        "    sent = sent[0:seq_length]\n",
        "  test_emb_fix.append(sent)\n",
        "\n",
        "print(np.array(word_emb_fix).shape)\n",
        "print(np.array(test_emb_fix).shape)"
      ],
      "execution_count": 950,
      "outputs": [
        {
          "output_type": "stream",
          "text": [
            "/usr/local/lib/python3.7/dist-packages/ipykernel_launcher.py:7: DeprecationWarning: Call to deprecated `__getitem__` (Method will be removed in 4.0.0, use self.wv.__getitem__() instead).\n",
            "  import sys\n",
            "/usr/local/lib/python3.7/dist-packages/ipykernel_launcher.py:17: DeprecationWarning: Call to deprecated `__getitem__` (Method will be removed in 4.0.0, use self.wv.__getitem__() instead).\n"
          ],
          "name": "stderr"
        },
        {
          "output_type": "stream",
          "text": [
            "(8000, 30, 201)\n",
            "(2000, 30, 201)\n"
          ],
          "name": "stdout"
        }
      ]
    },
    {
      "cell_type": "markdown",
      "metadata": {
        "id": "DpYCL17JKZxl"
      },
      "source": [
        "### 2.3.2. Build Sequence Model"
      ]
    },
    {
      "cell_type": "markdown",
      "metadata": {
        "id": "R204UIyDKhZ4"
      },
      "source": [
        "The hyperparameters of Bi-RNN model are:\n",
        "\n",
        "*   seq_length: seq_length represents the length of each sentence for input, is the number of features of input data. The average length of training data is 11.56 and the max length is 62. In section 3, there will be plots on how seq_length can affect the f1 score of test data. After several tests with different seq_length, 30 is selected with highest f1 score.\n",
        "\n",
        "*   n_hidden: n_hidden is the number of hidden layers of the model. \n",
        "\n",
        "*   batch_size: batch_size is the number training data for each training.\n",
        "\n",
        "*   total_epoch: total_epoch represets the number of time the model forward propagation and backward propagation. In section 3, there will be plots on how total_epoch can affect the f1 score of test data. After several tests with different epoch number, 20 is selected with highest f1 score.\n",
        "\n",
        "*   learning_rate: learning_rate is the hyperparameter to  adjust and update the neural network input weight for each epoch. In section 3, there will be plots on how learning_rate can affect the f1 score of test data. After several tests with different learning_rate, 0.001 is selected with highest f1 score.\n",
        "\n",
        "Note: Part of building and training the sequence model refers to lab 04\n",
        "\n",
        "\n",
        "\n",
        "\n",
        "\n",
        "\n",
        "\n",
        "\n",
        "\n",
        "\n",
        "\n"
      ]
    },
    {
      "cell_type": "code",
      "metadata": {
        "id": "OVP2_lCYWLtX"
      },
      "source": [
        "import numpy as np\n",
        "\n",
        "train_emb = np.array(word_emb_fix)\n",
        "test_emb = np.array(test_emb_fix)\n",
        "\n",
        "n_input = train_emb.shape[2]\n",
        "n_class = np.unique(label_train_encoded).shape[0]\n",
        "\n",
        "n_hidden = 200\n",
        "batch_size = 256\n",
        "total_epoch = 20\n",
        "learning_rate = 0.001\n",
        "\n",
        "train_label = np.array(label_train_encoded)\n",
        "test_label = np.array(label_test_encoded)"
      ],
      "execution_count": 951,
      "outputs": []
    },
    {
      "cell_type": "code",
      "metadata": {
        "id": "-SKCDZSKY85X"
      },
      "source": [
        "import torch\n",
        "import torch.nn as nn\n",
        "import torch.nn.functional as F\n",
        "import torch.optim as optim\n",
        "from sklearn.metrics import accuracy_score\n",
        "\n",
        "device = torch.device(\"cuda\" if torch.cuda.is_available() else \"cpu\")\n",
        "\n",
        "class Bi_RNN_Model(nn.Module):\n",
        "    def __init__(self):\n",
        "        super(Bi_RNN_Model, self).__init__()\n",
        "        self.rnn = nn.RNN(n_input, n_hidden, batch_first =True, bidirectional=True)\n",
        "        self.linear = nn.Linear(2*n_hidden,n_class)\n",
        "\n",
        "    def forward(self, x):        \n",
        "        x, h_n = self.rnn(x)\n",
        "        hidden_out = torch.cat((h_n[0,:,:],h_n[1,:,:]),1)\n",
        "        output = self.linear(hidden_out)\n",
        "        return output\n"
      ],
      "execution_count": 952,
      "outputs": []
    },
    {
      "cell_type": "markdown",
      "metadata": {
        "id": "6BaOiaGRLW7R"
      },
      "source": [
        "### 2.3.3. Train Sequence Model\n"
      ]
    },
    {
      "cell_type": "code",
      "metadata": {
        "id": "13eCtR_SLUG6",
        "colab": {
          "base_uri": "https://localhost:8080/"
        },
        "outputId": "d66b7cb2-d924-4519-dfd7-afddf27c2bbd"
      },
      "source": [
        "from sklearn.metrics import accuracy_score\n",
        "import torch.optim as optim\n",
        "\n",
        "criterion = nn.CrossEntropyLoss()\n",
        "model = Bi_RNN_Model().to(device)\n",
        "optimizer = optim.Adam(model.parameters(), lr=learning_rate)\n",
        "\n",
        "for epoch in range(total_epoch):\n",
        "    train_loss = 0\n",
        "    for ind in range(0,train_emb.shape[0],batch_size):\n",
        "        input_batch = train_emb[ind:min(ind+batch_size, train_emb.shape[0])]\n",
        "        target_batch = train_label[ind:min(ind+batch_size, train_emb.shape[0])]\n",
        "        input_batch_torch = torch.from_numpy(input_batch).float().to(device)\n",
        "        target_batch_torch = torch.from_numpy(target_batch).view(-1).to(device)\n",
        "\n",
        "        model.train()\n",
        "        optimizer.zero_grad()\n",
        "        outputs = model(input_batch_torch) \n",
        "        loss = criterion(outputs, target_batch_torch)\n",
        "        loss.backward()\n",
        "        optimizer.step()\n",
        "        \n",
        "        train_loss += loss.item()\n",
        "\n",
        "    print('Epoch: %d, train loss: %.5f'%(epoch + 1, train_loss))\n",
        "\n",
        "print('Finished Training')\n",
        "\n",
        "## Prediction\n",
        "model.eval()\n",
        "outputs = model(torch.from_numpy(test_emb).float().to(device)) \n",
        "predicted = torch.argmax(outputs, 1)"
      ],
      "execution_count": 953,
      "outputs": [
        {
          "output_type": "stream",
          "text": [
            "Epoch: 1, train loss: 15.48666\n",
            "Epoch: 2, train loss: 5.25416\n",
            "Epoch: 3, train loss: 3.10695\n",
            "Epoch: 4, train loss: 3.27955\n",
            "Epoch: 5, train loss: 2.71428\n",
            "Epoch: 6, train loss: 3.26716\n",
            "Epoch: 7, train loss: 1.55976\n",
            "Epoch: 8, train loss: 2.27520\n",
            "Epoch: 9, train loss: 2.22595\n",
            "Epoch: 10, train loss: 1.37449\n",
            "Epoch: 11, train loss: 2.62653\n",
            "Epoch: 12, train loss: 1.99872\n",
            "Epoch: 13, train loss: 1.15686\n",
            "Epoch: 14, train loss: 0.99395\n",
            "Epoch: 15, train loss: 1.34520\n",
            "Epoch: 16, train loss: 0.85241\n",
            "Epoch: 17, train loss: 0.74426\n",
            "Epoch: 18, train loss: 1.33946\n",
            "Epoch: 19, train loss: 0.62640\n",
            "Epoch: 20, train loss: 1.77209\n",
            "Finished Training\n"
          ],
          "name": "stdout"
        }
      ]
    },
    {
      "cell_type": "markdown",
      "metadata": {
        "id": "a4mpRpocePLN"
      },
      "source": [
        "# 3 - Evaluation\n"
      ]
    },
    {
      "cell_type": "markdown",
      "metadata": {
        "id": "lbLBzHObsvvM"
      },
      "source": [
        "## 3.1. Word Embedding Evaluation\n"
      ]
    },
    {
      "cell_type": "code",
      "metadata": {
        "id": "tCrcXwcGsuuo"
      },
      "source": [
        "wv_cbow_model.wv.save_word2vec_format('cbow_w2v.txt', binary=False)"
      ],
      "execution_count": 954,
      "outputs": []
    },
    {
      "cell_type": "code",
      "metadata": {
        "id": "FyMRTCiWmglx",
        "colab": {
          "base_uri": "https://localhost:8080/"
        },
        "outputId": "32db701f-1426-4aff-89dc-37c7b1a751fb"
      },
      "source": [
        "!git clone https://github.com/stanfordnlp/GloVe.git"
      ],
      "execution_count": 955,
      "outputs": [
        {
          "output_type": "stream",
          "text": [
            "fatal: destination path 'GloVe' already exists and is not an empty directory.\n"
          ],
          "name": "stdout"
        }
      ]
    },
    {
      "cell_type": "code",
      "metadata": {
        "id": "rrLmDBQPmmID",
        "colab": {
          "base_uri": "https://localhost:8080/"
        },
        "outputId": "16a12ca2-9cda-495a-e46c-dc3bde1a520d"
      },
      "source": [
        "vectors_file=\"/content/cbow_w2v.txt\"\n",
        "\n",
        "with open(vectors_file, 'r') as f:\n",
        "  vectors = {}\n",
        "  for line in f.readlines()[1:]: # we only need the embedding vectors starting from the second line \n",
        "    vals = line.rstrip().split(' ')\n",
        "    vectors[vals[0]] = [float(x) for x in vals[1:]]\n",
        "\n",
        "vocab_words=list(vectors.keys())\n",
        "vocab_size = len(vocab_words)\n",
        "print(\"Vocab size: \",str(vocab_size))\n",
        "\n",
        "# create word->index and index->word converter\n",
        "vocab = {w: idx for idx, w in enumerate(vocab_words)}\n",
        "ivocab = {idx: w for idx, w in enumerate(vocab_words)}\n",
        "\n",
        "# create the embedding matrix of shape (vocab_size, dim)\n",
        "vector_dim = len(vectors[ivocab[0]])\n",
        "W = np.zeros((vocab_size, vector_dim))\n",
        "for word, v in vectors.items():\n",
        "    if word == '<unk>':\n",
        "        continue\n",
        "    W[vocab[word], :] = v\n",
        "\n",
        "# normalize each word vector to unit length\n",
        "# Vectors are usually normalized to unit length before they are used for similarity calculation, making cosine similarity and dot-product equivalent.\n",
        "W_norm = np.zeros(W.shape)\n",
        "d = (np.sum(W ** 2, 1) ** (0.5))\n",
        "W_norm = (W.T / d).T"
      ],
      "execution_count": 956,
      "outputs": [
        {
          "output_type": "stream",
          "text": [
            "Vocab size:  61848\n"
          ],
          "name": "stdout"
        }
      ]
    },
    {
      "cell_type": "code",
      "metadata": {
        "id": "Yvmd7RdymyNy"
      },
      "source": [
        "def evaluate_vectors(W, vocab, prefix='./eval/question-data/'):\n",
        "    \"\"\"Evaluate the trained word vectors on a variety of tasks\"\"\"\n",
        "\n",
        "    filenames = [\n",
        "        'capital-common-countries.txt', 'capital-world.txt', 'currency.txt',\n",
        "        'city-in-state.txt', 'family.txt', 'gram1-adjective-to-adverb.txt',\n",
        "        'gram2-opposite.txt', 'gram3-comparative.txt', 'gram4-superlative.txt',\n",
        "        'gram5-present-participle.txt', 'gram6-nationality-adjective.txt',\n",
        "        'gram7-past-tense.txt', 'gram8-plural.txt', 'gram9-plural-verbs.txt',\n",
        "        ]\n",
        "\n",
        "    # to avoid memory overflow, could be increased/decreased\n",
        "    # depending on system and vocab size\n",
        "    split_size = 100\n",
        "\n",
        "    correct_sem = 0; # count correct semantic questions\n",
        "    correct_syn = 0; # count correct syntactic questions\n",
        "    correct_tot = 0 # count correct questions\n",
        "    count_sem = 0; # count all semantic questions\n",
        "    count_syn = 0; # count all syntactic questions\n",
        "    count_tot = 0 # count all questions\n",
        "    full_count = 0 # count all questions, including those with unknown words\n",
        "\n",
        "    for i in range(len(filenames)):\n",
        "        with open('%s/%s' % (prefix, filenames[i]), 'r') as f:\n",
        "            full_data = [line.rstrip().split(' ') for line in f]\n",
        "            full_count += len(full_data)\n",
        "            data = [x for x in full_data if all(word in vocab for word in x)]\n",
        "\n",
        "        if len(data) == 0:\n",
        "            print(\"ERROR: no lines of vocab kept for %s !\" % filenames[i])\n",
        "            print(\"Example missing line:\", full_data[0])\n",
        "            continue\n",
        "\n",
        "        indices = np.array([[vocab[word] for word in row] for row in data])\n",
        "        ind1, ind2, ind3, ind4 = indices.T\n",
        "\n",
        "        predictions = np.zeros((len(indices),))\n",
        "        num_iter = int(np.ceil(len(indices) / float(split_size)))\n",
        "        for j in range(num_iter):\n",
        "            subset = np.arange(j*split_size, min((j + 1)*split_size, len(ind1)))\n",
        "\n",
        "            pred_vec = (W[ind2[subset], :] - W[ind1[subset], :]\n",
        "                +  W[ind3[subset], :])\n",
        "\n",
        "            #cosine similarity if input W has been normalized\n",
        "            dist = np.dot(W, pred_vec.T)\n",
        "\n",
        "\n",
        "            for k in range(len(subset)):\n",
        "                dist[ind1[subset[k]], k] = -np.Inf\n",
        "                dist[ind2[subset[k]], k] = -np.Inf\n",
        "                dist[ind3[subset[k]], k] = -np.Inf\n",
        "\n",
        "            # predicted word index\n",
        "            predictions[subset] = np.argmax(dist, 0).flatten()\n",
        "\n",
        "        \n",
        "        val = (ind4 == predictions) # correct predictions\n",
        "        count_tot = count_tot + len(ind1)\n",
        "        correct_tot = correct_tot + sum(val)\n",
        "        if i < 5:\n",
        "            count_sem = count_sem + len(ind1)\n",
        "            correct_sem = correct_sem + sum(val)\n",
        "        else:\n",
        "            count_syn = count_syn + len(ind1)\n",
        "            correct_syn = correct_syn + sum(val)\n",
        "\n",
        "        print(\"%s:\" % filenames[i])\n",
        "        print('ACCURACY TOP1: %.2f%% (%d/%d)' %\n",
        "            (np.mean(val) * 100, np.sum(val), len(val)))\n",
        "        \n",
        "    return correct_sem, correct_syn, correct_tot, count_sem, count_syn, count_tot, full_count\n"
      ],
      "execution_count": 957,
      "outputs": []
    },
    {
      "cell_type": "code",
      "metadata": {
        "id": "wdApmq0zm1Qr",
        "colab": {
          "base_uri": "https://localhost:8080/"
        },
        "outputId": "ea5ba003-3fe1-4c30-fdef-3b7157554318"
      },
      "source": [
        "correct_sem, correct_syn, correct_tot, count_sem, count_syn, count_tot, full_count = evaluate_vectors(W_norm, vocab, prefix='/content/GloVe/eval/question-data')\n",
        "print('Questions seen/total: %.2f%% (%d/%d)' %\n",
        "    (100 * count_tot / float(full_count), count_tot, full_count))\n",
        "print('Semantic accuracy: %.2f%%  (%i/%i)' %\n",
        "    (100 * correct_sem / float(count_sem), correct_sem, count_sem))\n",
        "print('Syntactic accuracy: %.2f%%  (%i/%i)' %\n",
        "    (100 * correct_syn / float(count_syn), correct_syn, count_syn))\n",
        "print('Total accuracy: %.2f%%  (%i/%i)' % (100 * correct_tot / float(count_tot), correct_tot, count_tot))"
      ],
      "execution_count": 958,
      "outputs": [
        {
          "output_type": "stream",
          "text": [
            "capital-common-countries.txt:\n",
            "ACCURACY TOP1: 3.95% (20/506)\n",
            "capital-world.txt:\n",
            "ACCURACY TOP1: 1.31% (23/1750)\n",
            "currency.txt:\n",
            "ACCURACY TOP1: 0.78% (1/128)\n",
            "city-in-state.txt:\n",
            "ACCURACY TOP1: 1.21% (17/1406)\n",
            "family.txt:\n",
            "ACCURACY TOP1: 34.97% (107/306)\n",
            "gram1-adjective-to-adverb.txt:\n",
            "ACCURACY TOP1: 2.26% (21/930)\n",
            "gram2-opposite.txt:\n",
            "ACCURACY TOP1: 0.67% (4/600)\n",
            "gram3-comparative.txt:\n",
            "ACCURACY TOP1: 32.43% (432/1332)\n",
            "gram4-superlative.txt:\n",
            "ACCURACY TOP1: 6.51% (73/1122)\n",
            "gram5-present-participle.txt:\n",
            "ACCURACY TOP1: 34.00% (359/1056)\n",
            "gram6-nationality-adjective.txt:\n",
            "ACCURACY TOP1: 1.68% (23/1371)\n",
            "gram7-past-tense.txt:\n",
            "ACCURACY TOP1: 22.56% (352/1560)\n",
            "ERROR: no lines of vocab kept for gram8-plural.txt !\n",
            "Example missing line: ['banana', 'bananas', 'bird', 'birds']\n",
            "gram9-plural-verbs.txt:\n",
            "ACCURACY TOP1: 19.23% (30/156)\n",
            "Questions seen/total: 62.54% (12223/19544)\n",
            "Semantic accuracy: 4.10%  (168/4096)\n",
            "Syntactic accuracy: 15.92%  (1294/8127)\n",
            "Total accuracy: 11.96%  (1462/12223)\n"
          ],
          "name": "stdout"
        }
      ]
    },
    {
      "cell_type": "markdown",
      "metadata": {
        "id": "LEmn8CDZBLpw"
      },
      "source": [
        "The plot of vector dimension vs accuracy suggests that for dimension within 100, the semantic annd syntactic accuracy increases significantly with the increase of vector dimension. The accuracy does not change a lot and stays about the same accuracy for dimensions above 100. I believe this is because the corpas is relatively large and a low vector dimension of each word cannot hold all information. As the dimension larger than 100, it can hold all information so the accuracy stays same."
      ]
    },
    {
      "cell_type": "code",
      "metadata": {
        "id": "ALfOMIBXdJqY",
        "colab": {
          "base_uri": "https://localhost:8080/",
          "height": 295
        },
        "outputId": "ccf63739-6a16-4598-8457-af93894e6bb5"
      },
      "source": [
        "import matplotlib.pyplot as plt\n",
        "Semantic_d = [2.29, 3.86, 3.83, 3.98, 4.49, 3.61]\n",
        "Syntactic_d = [5.32, 12.82, 16.70, 17.07, 16.03, 16.6]\n",
        "Total_d = [4.3, 9.82, 12.39, 12.68, 12.17, 12.25]\n",
        "vector_dimension = [20, 50, 100, 200, 300, 600]\n",
        "plt.plot(vector_dimension, Semantic_d,  label='Semantic accuracy')\n",
        "plt.plot(vector_dimension, Syntactic_d,  label='Syntactic accuracy')\n",
        "plt.plot(vector_dimension, Total_d, label='Total accuracy')\n",
        "plt.axis([0, 600, 0, 35])\n",
        "plt.title('vector dimension VS accuracy')\n",
        "plt.xlabel('vector dimension')\n",
        "plt.ylabel('accuracy')\n",
        "plt.legend()\n",
        "plt.show()"
      ],
      "execution_count": 959,
      "outputs": [
        {
          "output_type": "display_data",
          "data": {
            "image/png": "[encoded data removed]",
            "text/plain": [
              "<Figure size 432x288 with 1 Axes>"
            ]
          },
          "metadata": {
            "tags": [],
            "needs_background": "light"
          }
        }
      ]
    },
    {
      "cell_type": "markdown",
      "metadata": {
        "id": "mPCGKdrDIUYD"
      },
      "source": [
        "The window size vs accuracy plot suggests that the accuracy does not change significantly with the change of window size."
      ]
    },
    {
      "cell_type": "code",
      "metadata": {
        "id": "0NQkwlKPSDac",
        "colab": {
          "base_uri": "https://localhost:8080/",
          "height": 295
        },
        "outputId": "dd135ac9-d27a-40b1-f72f-f3b6aff0542f"
      },
      "source": [
        "Semantic_w = [4.15, 4.66, 4.79, 3.81, 3.71, 3.37]\n",
        "Syntactic_w = [15.53, 16.32, 16.45, 16.7, 15.9, 16.12]\n",
        "Total_w = [11.72, 12.41, 12.54, 12.38, 11.81, 11.85]\n",
        "window_size = [2, 4, 5, 6, 8, 10]\n",
        "plt.plot(window_size, Semantic_w,  label='Semantic accuracy')\n",
        "plt.plot(window_size, Syntactic_w,  label='Syntactic accuracy')\n",
        "plt.plot(window_size, Total_w, label='Total accuracy')\n",
        "plt.axis([2, 10, 0, 25])\n",
        "plt.title('window size VS accuracy')\n",
        "plt.xlabel('window size')\n",
        "plt.ylabel('accuracy')\n",
        "plt.legend()\n",
        "plt.show()"
      ],
      "execution_count": 960,
      "outputs": [
        {
          "output_type": "display_data",
          "data": {
            "image/png": "[encoded data removed]",
            "text/plain": [
              "<Figure size 432x288 with 1 Axes>"
            ]
          },
          "metadata": {
            "tags": [],
            "needs_background": "light"
          }
        }
      ]
    },
    {
      "cell_type": "markdown",
      "metadata": {
        "id": "6CyZXs0FKWsS"
      },
      "source": [
        "The min_count vs accuracy plot suggests that the accuracy increases significantly when min_count increases. This shows words with low min_count have less value to the model, some of words might be typo or userID and they appear noise to the model, so a higher min_count value helps model to ignore words with low min_count, get a better understanding of each word, therefore the accuracy is higher."
      ]
    },
    {
      "cell_type": "code",
      "metadata": {
        "id": "Ke2-JLSUVHam",
        "colab": {
          "base_uri": "https://localhost:8080/",
          "height": 296
        },
        "outputId": "e54e8d36-7169-45d9-ae52-e1d8cd7df305"
      },
      "source": [
        "Semantic_m = [4.79, 5.5, 6.06, 7.93, 11.11, 12.42, 15.52, 17.84]\n",
        "Syntactic_m = [16.45, 17.24, 18.2, 20.08, 21.76, 23.38, 24.92, 27.39]\n",
        "Total_m = [12.54, 14.11, 15.44, 17.78, 20.04, 21.90, 23.74, 26.29]\n",
        "min_count = [1,2,3,5,8,10,12,15]\n",
        "plt.plot(min_count, Semantic_m,  label='Semantic accuracy')\n",
        "plt.plot(min_count, Syntactic_m,  label='Syntactic accuracy')\n",
        "plt.plot(min_count, Total_m, label='Total accuracy')\n",
        "plt.axis([1, 15, 0, 30])\n",
        "plt.title('min_count VS accuracy')\n",
        "plt.xlabel('min_count')\n",
        "plt.ylabel('accuracy')\n",
        "plt.legend()\n",
        "plt.show()"
      ],
      "execution_count": 961,
      "outputs": [
        {
          "output_type": "display_data",
          "data": {
            "image/png": "[encoded data removed]",
            "text/plain": [
              "<Figure size 432x288 with 1 Axes>"
            ]
          },
          "metadata": {
            "tags": [],
            "needs_background": "light"
          }
        }
      ]
    },
    {
      "cell_type": "markdown",
      "metadata": {
        "id": "KEW1zMgVMREr"
      },
      "source": [
        "## 3.2. Performance Evaluation\n"
      ]
    },
    {
      "cell_type": "markdown",
      "metadata": {
        "id": "oVCF0bwTtRS0"
      },
      "source": [
        "The precision, recall, f1-score of both labels are all above 0.99 for the best model. This indicates that the model has good performance on test data."
      ]
    },
    {
      "cell_type": "code",
      "metadata": {
        "id": "LPHCb-bneTI9",
        "colab": {
          "base_uri": "https://localhost:8080/"
        },
        "outputId": "d0b1efa2-b371-4576-afa9-36099ceb9dae"
      },
      "source": [
        "from sklearn.metrics import classification_report\n",
        "print(classification_report(test_label, predicted.cpu().numpy(),digits=4))"
      ],
      "execution_count": 962,
      "outputs": [
        {
          "output_type": "stream",
          "text": [
            "              precision    recall  f1-score   support\n",
            "\n",
            "           0     0.9930    0.9930    0.9930      1000\n",
            "           1     0.9930    0.9930    0.9930      1000\n",
            "\n",
            "    accuracy                         0.9930      2000\n",
            "   macro avg     0.9930    0.9930    0.9930      2000\n",
            "weighted avg     0.9930    0.9930    0.9930      2000\n",
            "\n"
          ],
          "name": "stdout"
        }
      ]
    },
    {
      "cell_type": "markdown",
      "metadata": {
        "id": "P28Z1k36MZuo"
      },
      "source": [
        "## 3.3. Hyperparameter Testing\n",
        "\n"
      ]
    },
    {
      "cell_type": "markdown",
      "metadata": {
        "id": "BYzrA_s2tTaz"
      },
      "source": [
        "With learning rate of 0.01, the f1 score fluctuates up and down with the increase of number of epoch. I believe this is because the learning rate is too large for this model. So the gradient decent jumps left and right of global optim, so that the f1 jumps up and down. And the increase of epoch cannot change this situation, there is no trend between f1 score and number of epoch under this learning rate."
      ]
    },
    {
      "cell_type": "code",
      "metadata": {
        "id": "wTLyQEeZMZ2f",
        "colab": {
          "base_uri": "https://localhost:8080/",
          "height": 296
        },
        "outputId": "603545a0-c4b8-438b-8f68-f448646604c9"
      },
      "source": [
        "# Please comment your code\n",
        "f1 = [0.989, 0.665, 0.8249, 0.888, 0.632, 0.6035]\n",
        "no_epoch = [10,20,30,50,100,200]\n",
        "plt.plot(no_epoch, f1, label = 'f1')\n",
        "plt.axis([10, 200, 0.5, 1])\n",
        "plt.title('learning rate at 0.01')\n",
        "plt.xlabel('no_epoch')\n",
        "plt.ylabel('f1')\n",
        "plt.legend()\n",
        "plt.show()"
      ],
      "execution_count": 963,
      "outputs": [
        {
          "output_type": "display_data",
          "data": {
            "image/png": "[encoded data removed]",
            "text/plain": [
              "<Figure size 432x288 with 1 Axes>"
            ]
          },
          "metadata": {
            "tags": [],
            "needs_background": "light"
          }
        }
      ]
    },
    {
      "cell_type": "markdown",
      "metadata": {
        "id": "nDug41rCOZrM"
      },
      "source": [
        "With the learning rate of 0.001, the model can achieve above 95% accuracy with only 10 epoches, and 99.7% at 30 epoches, and 99.9% at 100 epoches. The accuracy is already good enough with small number of epoches, so increasing it does not increase accuracy significantly, but increase time and resource need for training the model. Therefore, I set no_epoch is 20 with learning rate 0.001 to get the best model."
      ]
    },
    {
      "cell_type": "code",
      "metadata": {
        "colab": {
          "base_uri": "https://localhost:8080/",
          "height": 296
        },
        "id": "SYbZBry3n_0W",
        "outputId": "3fc61ea2-45c2-4e79-dcd8-04e056b5e927"
      },
      "source": [
        "f1 = [0.9540, 0.9865, 0.997, 0.9985, 0.9995, 0.9975]\n",
        "no_epoch = [10,20,30,50,100,200]\n",
        "plt.plot(no_epoch, f1, label = 'f1')\n",
        "plt.axis([10, 200, 0.9, 1])\n",
        "plt.title('learning rate at 0.001')\n",
        "plt.xlabel('no_epoch')\n",
        "plt.ylabel('f1')\n",
        "plt.legend()\n",
        "plt.show()"
      ],
      "execution_count": 964,
      "outputs": [
        {
          "output_type": "display_data",
          "data": {
            "image/png": "[encoded data removed]",
            "text/plain": [
              "<Figure size 432x288 with 1 Axes>"
            ]
          },
          "metadata": {
            "tags": [],
            "needs_background": "light"
          }
        }
      ]
    },
    {
      "cell_type": "markdown",
      "metadata": {
        "id": "gWVvgeYnzQWD"
      },
      "source": [
        "I observe that increasing the sequence of length of input data boosts f1 score in this modol. This can be explained that low sequence of length (that below average length of sentence) cuts too much value of input data, the model does not have enough information for each sentence to perform sentiment analysis, therefore the accuracy can be low. However, a moderate sequence of length, for example in this model I choose 30, can obtain most of information and also cut the unnecessary value to increase the training speed. (considering average length is 11.5 and maximum length is 62)"
      ]
    },
    {
      "cell_type": "code",
      "metadata": {
        "colab": {
          "base_uri": "https://localhost:8080/",
          "height": 296
        },
        "id": "OQNSAQRDrn_f",
        "outputId": "aa8c4142-9d77-4fd7-f1af-150feaabb980"
      },
      "source": [
        "f1 = [0.645, 0.7125, 0.8840, 0.9540, 0.9845, 0.999, 0.999, 1]\n",
        "seq_length = [3, 5, 10, 15, 20, 30, 40, 50]\n",
        "plt.plot(seq_length, f1, label = 'f1')\n",
        "plt.axis([3, 50, 0.6, 1])\n",
        "plt.title('seq_length VS f1')\n",
        "plt.xlabel('seq_length')\n",
        "plt.ylabel('f1')\n",
        "plt.legend()\n",
        "plt.show()"
      ],
      "execution_count": 965,
      "outputs": [
        {
          "output_type": "display_data",
          "data": {
            "image/png": "[encoded data removed]",
            "text/plain": [
              "<Figure size 432x288 with 1 Axes>"
            ]
          },
          "metadata": {
            "tags": [],
            "needs_background": "light"
          }
        }
      ]
    },
    {
      "cell_type": "markdown",
      "metadata": {
        "id": "sfv8rWTKPzeb"
      },
      "source": [
        "## Object Oriented Programming codes here"
      ]
    },
    {
      "cell_type": "markdown",
      "metadata": {
        "id": "TS23AjBRSZaX"
      },
      "source": [
        "*You can use multiple code snippets. Just add more if needed* "
      ]
    },
    {
      "cell_type": "code",
      "metadata": {
        "id": "1hVmx4E52dXS"
      },
      "source": [
        "# If you used OOP style, use this section"
      ],
      "execution_count": 967,
      "outputs": []
    }
  ]
}